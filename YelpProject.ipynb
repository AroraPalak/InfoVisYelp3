{
 "cells": [
  {
   "cell_type": "code",
   "execution_count": 1,
   "metadata": {
    "collapsed": false
   },
   "outputs": [
    {
     "name": "stdout",
     "output_type": "stream",
     "text": [
      "Converting yelp_academic_dataset_business.json to yelp_academic_dataset_business.csv\n",
      "Converting yelp_academic_dataset_checkin.json to yelp_academic_dataset_checkin.csv\n",
      "Converting yelp_academic_dataset_review.json to yelp_academic_dataset_review.csv\n",
      "Converting yelp_academic_dataset_tip.json to yelp_academic_dataset_tip.csv\n",
      "Converting yelp_academic_dataset_user.json to yelp_academic_dataset_user.csv\n"
     ]
    },
    {
     "ename": "TypeError",
     "evalue": "sequence item 0: expected string, int found",
     "output_type": "error",
     "traceback": [
      "\u001b[0;31m---------------------------------------------------------------------------\u001b[0m",
      "\u001b[0;31mTypeError\u001b[0m                                 Traceback (most recent call last)",
      "\u001b[0;32m<ipython-input-1-53c4da979e64>\u001b[0m in \u001b[0;36m<module>\u001b[0;34m()\u001b[0m\n\u001b[1;32m     20\u001b[0m     \u001b[0mcsv_filename\u001b[0m \u001b[0;34m=\u001b[0m \u001b[0;34m'%s.csv'\u001b[0m \u001b[0;34m%\u001b[0m \u001b[0mjson_filename\u001b[0m\u001b[0;34m[\u001b[0m\u001b[0;34m:\u001b[0m\u001b[0;34m-\u001b[0m\u001b[0;36m5\u001b[0m\u001b[0;34m]\u001b[0m\u001b[0;34m\u001b[0m\u001b[0m\n\u001b[1;32m     21\u001b[0m     \u001b[0;32mprint\u001b[0m \u001b[0;34m'Converting %s to %s'\u001b[0m \u001b[0;34m%\u001b[0m \u001b[0;34m(\u001b[0m\u001b[0mjson_filename\u001b[0m\u001b[0;34m,\u001b[0m \u001b[0mcsv_filename\u001b[0m\u001b[0;34m)\u001b[0m\u001b[0;34m\u001b[0m\u001b[0m\n\u001b[0;32m---> 22\u001b[0;31m     \u001b[0mdf\u001b[0m \u001b[0;34m=\u001b[0m \u001b[0mpd\u001b[0m\u001b[0;34m.\u001b[0m\u001b[0mDataFrame\u001b[0m\u001b[0;34m(\u001b[0m\u001b[0;34m[\u001b[0m\u001b[0mconvert\u001b[0m\u001b[0;34m(\u001b[0m\u001b[0mline\u001b[0m\u001b[0;34m)\u001b[0m \u001b[0;32mfor\u001b[0m \u001b[0mline\u001b[0m \u001b[0;32min\u001b[0m \u001b[0mfile\u001b[0m\u001b[0;34m(\u001b[0m\u001b[0mjson_filename\u001b[0m\u001b[0;34m)\u001b[0m\u001b[0;34m]\u001b[0m\u001b[0;34m)\u001b[0m\u001b[0;34m\u001b[0m\u001b[0m\n\u001b[0m\u001b[1;32m     23\u001b[0m     \u001b[0mdf\u001b[0m\u001b[0;34m.\u001b[0m\u001b[0mto_csv\u001b[0m\u001b[0;34m(\u001b[0m\u001b[0mcsv_filename\u001b[0m\u001b[0;34m,\u001b[0m \u001b[0mencoding\u001b[0m\u001b[0;34m=\u001b[0m\u001b[0;34m'utf-8'\u001b[0m\u001b[0;34m,\u001b[0m \u001b[0mindex\u001b[0m\u001b[0;34m=\u001b[0m\u001b[0mFalse\u001b[0m\u001b[0;34m)\u001b[0m\u001b[0;34m\u001b[0m\u001b[0m\n",
      "\u001b[0;32m<ipython-input-1-53c4da979e64>\u001b[0m in \u001b[0;36mconvert\u001b[0;34m(x)\u001b[0m\n\u001b[1;32m     10\u001b[0m     \u001b[0;32mfor\u001b[0m \u001b[0mk\u001b[0m\u001b[0;34m,\u001b[0m \u001b[0mv\u001b[0m \u001b[0;32min\u001b[0m \u001b[0mob\u001b[0m\u001b[0;34m.\u001b[0m\u001b[0mitems\u001b[0m\u001b[0;34m(\u001b[0m\u001b[0;34m)\u001b[0m\u001b[0;34m:\u001b[0m\u001b[0;34m\u001b[0m\u001b[0m\n\u001b[1;32m     11\u001b[0m         \u001b[0;32mif\u001b[0m \u001b[0misinstance\u001b[0m\u001b[0;34m(\u001b[0m\u001b[0mv\u001b[0m\u001b[0;34m,\u001b[0m \u001b[0mlist\u001b[0m\u001b[0;34m)\u001b[0m\u001b[0;34m:\u001b[0m\u001b[0;34m\u001b[0m\u001b[0m\n\u001b[0;32m---> 12\u001b[0;31m             \u001b[0mob\u001b[0m\u001b[0;34m[\u001b[0m\u001b[0mk\u001b[0m\u001b[0;34m]\u001b[0m \u001b[0;34m=\u001b[0m \u001b[0;34m','\u001b[0m\u001b[0;34m.\u001b[0m\u001b[0mjoin\u001b[0m\u001b[0;34m(\u001b[0m\u001b[0mv\u001b[0m\u001b[0;34m)\u001b[0m\u001b[0;34m\u001b[0m\u001b[0m\n\u001b[0m\u001b[1;32m     13\u001b[0m         \u001b[0;32melif\u001b[0m \u001b[0misinstance\u001b[0m\u001b[0;34m(\u001b[0m\u001b[0mv\u001b[0m\u001b[0;34m,\u001b[0m \u001b[0mdict\u001b[0m\u001b[0;34m)\u001b[0m\u001b[0;34m:\u001b[0m\u001b[0;34m\u001b[0m\u001b[0m\n\u001b[1;32m     14\u001b[0m             \u001b[0;32mfor\u001b[0m \u001b[0mkk\u001b[0m\u001b[0;34m,\u001b[0m \u001b[0mvv\u001b[0m \u001b[0;32min\u001b[0m \u001b[0mv\u001b[0m\u001b[0;34m.\u001b[0m\u001b[0mitems\u001b[0m\u001b[0;34m(\u001b[0m\u001b[0;34m)\u001b[0m\u001b[0;34m:\u001b[0m\u001b[0;34m\u001b[0m\u001b[0m\n",
      "\u001b[0;31mTypeError\u001b[0m: sequence item 0: expected string, int found"
     ]
    }
   ],
   "source": [
    "# Convert .json to .csv\n",
    "\n",
    "# https://gist.github.com/paulgb/5265767\n",
    "import json\n",
    "import pandas as pd\n",
    "from glob import glob\n",
    "\n",
    "def convert(x):\n",
    "    ''' Convert a json string to a flat python dictionary\n",
    "    which can be passed into Pandas. '''\n",
    "    ob = json.loads(x)\n",
    "    for k, v in ob.items():\n",
    "        if isinstance(v, list):\n",
    "            ob[k] = ','.join(v)\n",
    "        elif isinstance(v, dict):\n",
    "            for kk, vv in v.items():\n",
    "                ob['%s_%s' % (k, kk)] = vv\n",
    "            del ob[k]\n",
    "    return ob\n",
    "\n",
    "for json_filename in glob('*.json'):\n",
    "    csv_filename = '%s.csv' % json_filename[:-5]\n",
    "    print 'Converting %s to %s' % (json_filename, csv_filename)\n",
    "    df = pd.DataFrame([convert(line) for line in file(json_filename)])\n",
    "    df.to_csv(csv_filename, encoding='utf-8', index=False)"
   ]
  },
  {
   "cell_type": "code",
   "execution_count": 4,
   "metadata": {
    "collapsed": false
   },
   "outputs": [
    {
     "data": {
      "text/html": [
       "<div>\n",
       "<table border=\"1\" class=\"dataframe\">\n",
       "  <thead>\n",
       "    <tr style=\"text-align: right;\">\n",
       "      <th></th>\n",
       "      <th>business_id</th>\n",
       "      <th>date</th>\n",
       "      <th>likes</th>\n",
       "      <th>text</th>\n",
       "      <th>user_id</th>\n",
       "    </tr>\n",
       "  </thead>\n",
       "  <tbody>\n",
       "    <tr>\n",
       "      <th>0</th>\n",
       "      <td>5UmKMjUEUNdYWqANhGckJw</td>\n",
       "      <td>2016-07-17</td>\n",
       "      <td>0</td>\n",
       "      <td>Pizza is garbage. Hoagies are excellent.</td>\n",
       "      <td>ZxdojCZgZhw36xuSGaryRg</td>\n",
       "    </tr>\n",
       "    <tr>\n",
       "      <th>1</th>\n",
       "      <td>cE27W9VPgO88Qxe4ol6y_g</td>\n",
       "      <td>2013-04-18</td>\n",
       "      <td>0</td>\n",
       "      <td>Don't waste your time.</td>\n",
       "      <td>-6rEfobYjMxpUWLNxszaxQ</td>\n",
       "    </tr>\n",
       "    <tr>\n",
       "      <th>2</th>\n",
       "      <td>mVHrayjG3uZ_RLHkLj-AMg</td>\n",
       "      <td>2016-02-22</td>\n",
       "      <td>0</td>\n",
       "      <td>Not easy to find. Be sure to put in directions...</td>\n",
       "      <td>5OumCBQ_MyQsltSdbMyunA</td>\n",
       "    </tr>\n",
       "    <tr>\n",
       "      <th>3</th>\n",
       "      <td>mVHrayjG3uZ_RLHkLj-AMg</td>\n",
       "      <td>2013-01-06</td>\n",
       "      <td>1</td>\n",
       "      <td>Your GPS will not allow you to find this place...</td>\n",
       "      <td>EZ0r9dKKtEGVx2CdnowPCw</td>\n",
       "    </tr>\n",
       "    <tr>\n",
       "      <th>4</th>\n",
       "      <td>KayYbHCt-RkbGcPdGOThNg</td>\n",
       "      <td>2013-12-03</td>\n",
       "      <td>0</td>\n",
       "      <td>Great drink specials!</td>\n",
       "      <td>xb6zEQCw9I-Gl0g06e1KsQ</td>\n",
       "    </tr>\n",
       "  </tbody>\n",
       "</table>\n",
       "</div>"
      ],
      "text/plain": [
       "              business_id        date  likes  \\\n",
       "0  5UmKMjUEUNdYWqANhGckJw  2016-07-17      0   \n",
       "1  cE27W9VPgO88Qxe4ol6y_g  2013-04-18      0   \n",
       "2  mVHrayjG3uZ_RLHkLj-AMg  2016-02-22      0   \n",
       "3  mVHrayjG3uZ_RLHkLj-AMg  2013-01-06      1   \n",
       "4  KayYbHCt-RkbGcPdGOThNg  2013-12-03      0   \n",
       "\n",
       "                                                text                 user_id  \n",
       "0           Pizza is garbage. Hoagies are excellent.  ZxdojCZgZhw36xuSGaryRg  \n",
       "1                             Don't waste your time.  -6rEfobYjMxpUWLNxszaxQ  \n",
       "2  Not easy to find. Be sure to put in directions...  5OumCBQ_MyQsltSdbMyunA  \n",
       "3  Your GPS will not allow you to find this place...  EZ0r9dKKtEGVx2CdnowPCw  \n",
       "4                              Great drink specials!  xb6zEQCw9I-Gl0g06e1KsQ  "
      ]
     },
     "execution_count": 4,
     "metadata": {},
     "output_type": "execute_result"
    }
   ],
   "source": [
    "tips = pd.read_csv('yelp_academic_dataset_tip.csv')\n",
    "tips = tips.drop('type',axis=1)\n",
    "tips.head()"
   ]
  },
  {
   "cell_type": "code",
   "execution_count": 7,
   "metadata": {
    "collapsed": false
   },
   "outputs": [
    {
     "data": {
      "text/html": [
       "<div>\n",
       "<table border=\"1\" class=\"dataframe\">\n",
       "  <thead>\n",
       "    <tr style=\"text-align: right;\">\n",
       "      <th></th>\n",
       "      <th>business_id</th>\n",
       "      <th>stars</th>\n",
       "    </tr>\n",
       "  </thead>\n",
       "  <tbody>\n",
       "    <tr>\n",
       "      <th>0</th>\n",
       "      <td>5UmKMjUEUNdYWqANhGckJw</td>\n",
       "      <td>4</td>\n",
       "    </tr>\n",
       "    <tr>\n",
       "      <th>1</th>\n",
       "      <td>5UmKMjUEUNdYWqANhGckJw</td>\n",
       "      <td>5</td>\n",
       "    </tr>\n",
       "    <tr>\n",
       "      <th>2</th>\n",
       "      <td>5UmKMjUEUNdYWqANhGckJw</td>\n",
       "      <td>5</td>\n",
       "    </tr>\n",
       "    <tr>\n",
       "      <th>3</th>\n",
       "      <td>5UmKMjUEUNdYWqANhGckJw</td>\n",
       "      <td>3</td>\n",
       "    </tr>\n",
       "    <tr>\n",
       "      <th>4</th>\n",
       "      <td>5UmKMjUEUNdYWqANhGckJw</td>\n",
       "      <td>2</td>\n",
       "    </tr>\n",
       "  </tbody>\n",
       "</table>\n",
       "</div>"
      ],
      "text/plain": [
       "              business_id  stars\n",
       "0  5UmKMjUEUNdYWqANhGckJw      4\n",
       "1  5UmKMjUEUNdYWqANhGckJw      5\n",
       "2  5UmKMjUEUNdYWqANhGckJw      5\n",
       "3  5UmKMjUEUNdYWqANhGckJw      3\n",
       "4  5UmKMjUEUNdYWqANhGckJw      2"
      ]
     },
     "execution_count": 7,
     "metadata": {},
     "output_type": "execute_result"
    }
   ],
   "source": [
    "#reviews = pd.read_csv('yelp_academic_dataset_review.csv')\n",
    "reviews = reviews.drop('date',axis=1)\n",
    "reviews = reviews.drop('review_id',axis=1)\n",
    "reviews = reviews.drop('text',axis=1)\n",
    "reviews = reviews.drop('type',axis=1)\n",
    "reviews = reviews.drop('user_id',axis=1)\n",
    "reviews = reviews.drop('votes_cool',axis=1)\n",
    "reviews = reviews.drop('votes_funny',axis=1)\n",
    "reviews = reviews.drop('votes_useful',axis=1)\n",
    "reviews.head()"
   ]
  },
  {
   "cell_type": "code",
   "execution_count": 16,
   "metadata": {
    "collapsed": false
   },
   "outputs": [],
   "source": [
    "reviews = reviews.groupby(['business_id'],as_index=False).mean()"
   ]
  },
  {
   "cell_type": "code",
   "execution_count": 20,
   "metadata": {
    "collapsed": false
   },
   "outputs": [
    {
     "data": {
      "text/html": [
       "<div>\n",
       "<table border=\"1\" class=\"dataframe\">\n",
       "  <thead>\n",
       "    <tr style=\"text-align: right;\">\n",
       "      <th></th>\n",
       "      <th>business_id</th>\n",
       "      <th>stars</th>\n",
       "    </tr>\n",
       "  </thead>\n",
       "  <tbody>\n",
       "    <tr>\n",
       "      <th>0</th>\n",
       "      <td>--0ZoBTQWQra1FxD4rBWmg</td>\n",
       "      <td>2</td>\n",
       "    </tr>\n",
       "    <tr>\n",
       "      <th>1</th>\n",
       "      <td>--1emggGHgoG6ipd_RMb-g</td>\n",
       "      <td>3</td>\n",
       "    </tr>\n",
       "    <tr>\n",
       "      <th>2</th>\n",
       "      <td>--4Pe8BZ6gj57VFL5mUE8g</td>\n",
       "      <td>3</td>\n",
       "    </tr>\n",
       "    <tr>\n",
       "      <th>3</th>\n",
       "      <td>--5jkZ3-nUPZxUvtcbr8Uw</td>\n",
       "      <td>5</td>\n",
       "    </tr>\n",
       "    <tr>\n",
       "      <th>4</th>\n",
       "      <td>--7PRjnsjMA6uhPK8mW13Q</td>\n",
       "      <td>3</td>\n",
       "    </tr>\n",
       "  </tbody>\n",
       "</table>\n",
       "</div>"
      ],
      "text/plain": [
       "              business_id  stars\n",
       "0  --0ZoBTQWQra1FxD4rBWmg      2\n",
       "1  --1emggGHgoG6ipd_RMb-g      3\n",
       "2  --4Pe8BZ6gj57VFL5mUE8g      3\n",
       "3  --5jkZ3-nUPZxUvtcbr8Uw      5\n",
       "4  --7PRjnsjMA6uhPK8mW13Q      3"
      ]
     },
     "execution_count": 20,
     "metadata": {},
     "output_type": "execute_result"
    }
   ],
   "source": [
    "reviews['stars'] = reviews['stars'].round()\n",
    "reviews.head()"
   ]
  },
  {
   "cell_type": "code",
   "execution_count": 23,
   "metadata": {
    "collapsed": false
   },
   "outputs": [
    {
     "data": {
      "text/html": [
       "<div>\n",
       "<table border=\"1\" class=\"dataframe\">\n",
       "  <thead>\n",
       "    <tr style=\"text-align: right;\">\n",
       "      <th></th>\n",
       "      <th>business_id</th>\n",
       "      <th>date</th>\n",
       "      <th>likes</th>\n",
       "      <th>text</th>\n",
       "      <th>user_id</th>\n",
       "      <th>stars</th>\n",
       "    </tr>\n",
       "  </thead>\n",
       "  <tbody>\n",
       "    <tr>\n",
       "      <th>0</th>\n",
       "      <td>5UmKMjUEUNdYWqANhGckJw</td>\n",
       "      <td>2016-07-17</td>\n",
       "      <td>0</td>\n",
       "      <td>Pizza is garbage. Hoagies are excellent.</td>\n",
       "      <td>ZxdojCZgZhw36xuSGaryRg</td>\n",
       "      <td>3</td>\n",
       "    </tr>\n",
       "    <tr>\n",
       "      <th>1</th>\n",
       "      <td>cE27W9VPgO88Qxe4ol6y_g</td>\n",
       "      <td>2013-04-18</td>\n",
       "      <td>0</td>\n",
       "      <td>Don't waste your time.</td>\n",
       "      <td>-6rEfobYjMxpUWLNxszaxQ</td>\n",
       "      <td>3</td>\n",
       "    </tr>\n",
       "    <tr>\n",
       "      <th>2</th>\n",
       "      <td>mVHrayjG3uZ_RLHkLj-AMg</td>\n",
       "      <td>2016-02-22</td>\n",
       "      <td>0</td>\n",
       "      <td>Not easy to find. Be sure to put in directions...</td>\n",
       "      <td>5OumCBQ_MyQsltSdbMyunA</td>\n",
       "      <td>5</td>\n",
       "    </tr>\n",
       "    <tr>\n",
       "      <th>3</th>\n",
       "      <td>mVHrayjG3uZ_RLHkLj-AMg</td>\n",
       "      <td>2013-01-06</td>\n",
       "      <td>1</td>\n",
       "      <td>Your GPS will not allow you to find this place...</td>\n",
       "      <td>EZ0r9dKKtEGVx2CdnowPCw</td>\n",
       "      <td>5</td>\n",
       "    </tr>\n",
       "    <tr>\n",
       "      <th>4</th>\n",
       "      <td>KayYbHCt-RkbGcPdGOThNg</td>\n",
       "      <td>2013-12-03</td>\n",
       "      <td>0</td>\n",
       "      <td>Great drink specials!</td>\n",
       "      <td>xb6zEQCw9I-Gl0g06e1KsQ</td>\n",
       "      <td>4</td>\n",
       "    </tr>\n",
       "  </tbody>\n",
       "</table>\n",
       "</div>"
      ],
      "text/plain": [
       "              business_id        date  likes  \\\n",
       "0  5UmKMjUEUNdYWqANhGckJw  2016-07-17      0   \n",
       "1  cE27W9VPgO88Qxe4ol6y_g  2013-04-18      0   \n",
       "2  mVHrayjG3uZ_RLHkLj-AMg  2016-02-22      0   \n",
       "3  mVHrayjG3uZ_RLHkLj-AMg  2013-01-06      1   \n",
       "4  KayYbHCt-RkbGcPdGOThNg  2013-12-03      0   \n",
       "\n",
       "                                                text                 user_id  \\\n",
       "0           Pizza is garbage. Hoagies are excellent.  ZxdojCZgZhw36xuSGaryRg   \n",
       "1                             Don't waste your time.  -6rEfobYjMxpUWLNxszaxQ   \n",
       "2  Not easy to find. Be sure to put in directions...  5OumCBQ_MyQsltSdbMyunA   \n",
       "3  Your GPS will not allow you to find this place...  EZ0r9dKKtEGVx2CdnowPCw   \n",
       "4                              Great drink specials!  xb6zEQCw9I-Gl0g06e1KsQ   \n",
       "\n",
       "   stars  \n",
       "0      3  \n",
       "1      3  \n",
       "2      5  \n",
       "3      5  \n",
       "4      4  "
      ]
     },
     "execution_count": 23,
     "metadata": {},
     "output_type": "execute_result"
    }
   ],
   "source": [
    "tips = pd.merge(tips, reviews, on='business_id')\n",
    "tips.head()"
   ]
  },
  {
   "cell_type": "code",
   "execution_count": 24,
   "metadata": {
    "collapsed": true
   },
   "outputs": [],
   "source": [
    "tips.to_csv('tips.csv',index=False)"
   ]
  },
  {
   "cell_type": "code",
   "execution_count": null,
   "metadata": {
    "collapsed": true
   },
   "outputs": [],
   "source": []
  }
 ],
 "metadata": {
  "kernelspec": {
   "display_name": "Python 2",
   "language": "python",
   "name": "python2"
  },
  "language_info": {
   "codemirror_mode": {
    "name": "ipython",
    "version": 2
   },
   "file_extension": ".py",
   "mimetype": "text/x-python",
   "name": "python",
   "nbconvert_exporter": "python",
   "pygments_lexer": "ipython2",
   "version": "2.7.10"
  }
 },
 "nbformat": 4,
 "nbformat_minor": 0
}
